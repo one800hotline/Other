{
 "cells": [
  {
   "cell_type": "markdown",
   "metadata": {},
   "source": [
    "### Construct"
   ]
  },
  {
   "cell_type": "code",
   "execution_count": null,
   "metadata": {},
   "outputs": [],
   "source": [
    "import pandas as pd\n",
    "import numpy as np\n",
    "import re\n",
    "import calendar \n",
    "import pydoc\n",
    "import types\n",
    "import pickle\n",
    "import random\n",
    "import importlib\n",
    "\n",
    "import datetime as dt\n",
    "import time as time\n",
    "\n",
    "import sys as sys\n",
    "import os as os\n",
    "import operator as operator\n",
    "from shutil import copyfile\n",
    "from collections import Counter\n",
    "\n",
    "print (\"Running system under path: {}\\n\".format(sys.prefix))\n",
    "\n",
    "print (\"System version: {}\".format(sys.version))\n",
    "print (\"Pandas version: {}\".format(pd.__version__))\n",
    "print (\"Numpy version: {}\".format(np.__version__))\n",
    "print (\"\\n\")\n",
    "\n",
    "import seaborn as sns\n",
    "import matplotlib.pyplot as plt\n",
    "import matplotlib\n",
    "%matplotlib inline\n",
    "\n",
    "# Construct, add path.\n",
    "sys_path=\"\"\n",
    "sys.path.append(sys_path+\"Construct\\\\\")\n",
    "\n",
    "import Construct_Py36 as cstr"
   ]
  },
  {
   "cell_type": "markdown",
   "metadata": {},
   "source": [
    "### Spear"
   ]
  },
  {
   "cell_type": "code",
   "execution_count": null,
   "metadata": {},
   "outputs": [],
   "source": [
    "from sklearn import preprocessing\n",
    "from sklearn import linear_model\n",
    "\n",
    "from sklearn.tree import DecisionTreeClassifier\n",
    "from sklearn.svm import SVC\n",
    "from sklearn.ensemble import GradientBoostingClassifier, RandomForestClassifier, AdaBoostClassifier, ExtraTreesClassifier, RandomForestRegressor\n",
    "from sklearn.neighbors import KNeighborsClassifier\n",
    "from sklearn.ensemble.partial_dependence import plot_partial_dependence\n",
    "\n",
    "\n",
    "from sklearn.model_selection import GridSearchCV, learning_curve, ShuffleSplit, RandomizedSearchCV\n",
    "sys.path.append(sys_path+\"Spear\\\\\")\n",
    "rain_test_split, cross_val_score, validation_curve, KFold, cross_validate, StratifiedShuffleSplit\n",
    "\n",
    "from sklearn.preprocessing import PolynomialFeatures, StandardScaler, LabelEncoder, QuantileTransformer, quantile_transform\n",
    "\n",
    "from sklearn.feature_selection import RFE,SelectKBest, f_regression\n",
    "\n",
    "from sklearn.metrics import roc_curve, auc, classification_report, confusion_matrix, accuracy_score, roc_auc_score, mean_squared_error, r2_score\n",
    "\n",
    "from sklearn.pipeline import Pipeline\n",
    "from sklearn.pipeline import make_pipeline\n",
    "from sklearn.pipeline import _name_estimators\n",
    "\n",
    "\n",
    "from sklearn.base import BaseEstimator, ClassifierMixin, clone, TransformerMixin\n",
    "\n",
    "from mlxtend.feature_selection import ExhaustiveFeatureSelector as EFS\n",
    "\n",
    "import shap\n",
    "\n",
    "import operator\n",
    "\n",
    "# Spear\n",
    "sys.path.append(sys_path+\"Spear\\\\\")\n",
    "\n",
    "import Spear_Py36 as spr\n",
    "\n",
    "import lightgbm as lgbm\n",
    "import xgboost as xgbst"
   ]
  },
  {
   "cell_type": "code",
   "execution_count": null,
   "metadata": {},
   "outputs": [],
   "source": [
    "shap.initjs()"
   ]
  },
  {
   "cell_type": "markdown",
   "metadata": {},
   "source": [
    "## Options"
   ]
  },
  {
   "cell_type": "code",
   "execution_count": null,
   "metadata": {},
   "outputs": [],
   "source": [
    "# Widen notebook\n",
    "from IPython.core.display import HTML, display\n",
    "HTML(\"<style>.container { width:85% !important; }</style>\")"
   ]
  },
  {
   "cell_type": "code",
   "execution_count": null,
   "metadata": {},
   "outputs": [],
   "source": [
    "pd.set_option('display.max_columns', 500)\n",
    "pd.set_option('display.expand_frame_repr', False)\n",
    "pd.options.mode.chained_assignment=None"
   ]
  },
  {
   "cell_type": "markdown",
   "metadata": {},
   "source": [
    "## Functions"
   ]
  },
  {
   "cell_type": "code",
   "execution_count": null,
   "metadata": {},
   "outputs": [],
   "source": [
    "from dateutil import relativedelta as rtd\n",
    "from datetime import datetime, timedelta, date\n",
    "\n",
    "#--------------------------------- \n",
    "# TIME DIMENSIONS\n",
    "#---------------------------------\n",
    "def f_this_ym():\n",
    "    return dt.date.today().strftime('%Y%m')\n",
    "\n",
    "def f_last_ym():\n",
    "    return (dt.date.today() - rtd.relativedelta(months=+1)).strftime(\"%Y%m\")\n",
    "\n",
    "def f_last_ymd_01():\n",
    "    return (dt.date.today() - rtd.relativedelta(months=+1)  - rtd.relativedelta(day=1)).strftime(\"%Y%m%d\")\n",
    "\n",
    "def f_t_now():\n",
    "    return dt.datetime.today().strftime(\"%H:%M:%S\")\n",
    "\n",
    "def f_d_now():\n",
    "    return dt.date.today().strftime(\"%Y-%m-%d\")\n",
    "\n",
    "def f_dt_now():\n",
    "    return dt.datetime.today().strftime(\"%Y-%m-%d %H:%M:%S\")\n"
   ]
  }
 ],
 "metadata": {
  "anaconda-cloud": {},
  "kernelspec": {
   "display_name": "Python 3",
   "language": "python",
   "name": "python3"
  },
  "language_info": {
   "codemirror_mode": {
    "name": "ipython",
    "version": 3
   },
   "file_extension": ".py",
   "mimetype": "text/x-python",
   "name": "python",
   "nbconvert_exporter": "python",
   "pygments_lexer": "ipython3",
   "version": "3.7.3"
  }
 },
 "nbformat": 4,
 "nbformat_minor": 1
}
